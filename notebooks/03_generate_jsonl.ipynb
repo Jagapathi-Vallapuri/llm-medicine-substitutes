{
 "cells": [
  {
   "cell_type": "code",
   "execution_count": 1,
   "id": "acfdab25",
   "metadata": {},
   "outputs": [
    {
     "name": "stdout",
     "output_type": "stream",
     "text": [
      "Loaded 249668 entries\n"
     ]
    },
    {
     "data": {
      "text/html": [
       "<div>\n",
       "<style scoped>\n",
       "    .dataframe tbody tr th:only-of-type {\n",
       "        vertical-align: middle;\n",
       "    }\n",
       "\n",
       "    .dataframe tbody tr th {\n",
       "        vertical-align: top;\n",
       "    }\n",
       "\n",
       "    .dataframe thead th {\n",
       "        text-align: right;\n",
       "    }\n",
       "</style>\n",
       "<table border=\"1\" class=\"dataframe\">\n",
       "  <thead>\n",
       "    <tr style=\"text-align: right;\">\n",
       "      <th></th>\n",
       "      <th>name</th>\n",
       "      <th>composition_clean</th>\n",
       "      <th>substitute</th>\n",
       "    </tr>\n",
       "  </thead>\n",
       "  <tbody>\n",
       "    <tr>\n",
       "      <th>0</th>\n",
       "      <td>Augmentin 625 Duo Tablet</td>\n",
       "      <td>amoxycillin clavulanic acid</td>\n",
       "      <td>Augmentin 1000 Duo Tablet, Augmentin DDS Suspe...</td>\n",
       "    </tr>\n",
       "    <tr>\n",
       "      <th>1</th>\n",
       "      <td>Azithral 500 Tablet</td>\n",
       "      <td>azithromycin</td>\n",
       "      <td>Azee 200mg Dry Syrup, Azicip 500 Tablet, Azith...</td>\n",
       "    </tr>\n",
       "    <tr>\n",
       "      <th>2</th>\n",
       "      <td>Ascoril LS Syrup</td>\n",
       "      <td>ambroxol levosalbutamol</td>\n",
       "      <td>Asthalin AX Syrup, Ambrodil-LX Syrup, Asthakin...</td>\n",
       "    </tr>\n",
       "    <tr>\n",
       "      <th>3</th>\n",
       "      <td>Allegra 120mg Tablet</td>\n",
       "      <td>fexofenadine</td>\n",
       "      <td>Air 180 Tablet, Alrgee 120mg Tablet, Allegra S...</td>\n",
       "    </tr>\n",
       "    <tr>\n",
       "      <th>4</th>\n",
       "      <td>Avil 25 Tablet</td>\n",
       "      <td>pheniramine</td>\n",
       "      <td>Delcuf D Syrup, Alergipar 10mg Injection, Avil...</td>\n",
       "    </tr>\n",
       "  </tbody>\n",
       "</table>\n",
       "</div>"
      ],
      "text/plain": [
       "                       name            composition_clean  \\\n",
       "0  Augmentin 625 Duo Tablet  amoxycillin clavulanic acid   \n",
       "1       Azithral 500 Tablet                 azithromycin   \n",
       "2          Ascoril LS Syrup      ambroxol levosalbutamol   \n",
       "3      Allegra 120mg Tablet                 fexofenadine   \n",
       "4            Avil 25 Tablet                  pheniramine   \n",
       "\n",
       "                                          substitute  \n",
       "0  Augmentin 1000 Duo Tablet, Augmentin DDS Suspe...  \n",
       "1  Azee 200mg Dry Syrup, Azicip 500 Tablet, Azith...  \n",
       "2  Asthalin AX Syrup, Ambrodil-LX Syrup, Asthakin...  \n",
       "3  Air 180 Tablet, Alrgee 120mg Tablet, Allegra S...  \n",
       "4  Delcuf D Syrup, Alergipar 10mg Injection, Avil...  "
      ]
     },
     "execution_count": 1,
     "metadata": {},
     "output_type": "execute_result"
    }
   ],
   "source": [
    "import pandas as pd\n",
    "import json\n",
    "from pathlib import Path\n",
    "\n",
    "df = pd.read_csv(\"../outputs/medicine_comp_substitue.csv\")\n",
    "print(f\"Loaded {len(df)} entries\")\n",
    "df.head()\n"
   ]
  },
  {
   "cell_type": "code",
   "execution_count": 2,
   "id": "27f02c2c",
   "metadata": {},
   "outputs": [],
   "source": [
    "def create_instruction(name, composition):\n",
    "    return f\"Suggest alternative medicines for '{name}', which contains the composition: {composition}.\"\n",
    "\n",
    "def create_output(substitute_list):\n",
    "    return f\"Here are some similar alternatives: {substitute_list}.\"\n"
   ]
  },
  {
   "cell_type": "code",
   "execution_count": 3,
   "id": "e67b1a4b",
   "metadata": {},
   "outputs": [
    {
     "name": "stdout",
     "output_type": "stream",
     "text": [
      "Prepared 249668 records\n"
     ]
    }
   ],
   "source": [
    "records = []\n",
    "\n",
    "for _, row in df.iterrows():\n",
    "    instruction = create_instruction(row[\"name\"], row[\"composition_clean\"])\n",
    "    output = create_output(row[\"substitute\"])\n",
    "    records.append({\n",
    "        \"instruction\": instruction,\n",
    "        \"input\": \"\",\n",
    "        \"output\": output\n",
    "    })\n",
    "\n",
    "print(f\"Prepared {len(records)} records\")\n"
   ]
  },
  {
   "cell_type": "code",
   "execution_count": 4,
   "id": "61b3609d",
   "metadata": {},
   "outputs": [
    {
     "name": "stdout",
     "output_type": "stream",
     "text": [
      "Saved instruction-tuning dataset to C:\\Users\\Jagapathi Vallapuri\\Desktop\\llm-medicine-substitutes\\outputs\\instructions.jsonl\n"
     ]
    }
   ],
   "source": [
    "output_path = Path(\"../outputs/instructions.jsonl\")\n",
    "\n",
    "with output_path.open(\"w\", encoding=\"utf-8\") as f:\n",
    "    for record in records:\n",
    "        f.write(json.dumps(record, ensure_ascii=False) + \"\\n\")\n",
    "\n",
    "print(f\"Saved instruction-tuning dataset to {output_path.resolve()}\")\n"
   ]
  }
 ],
 "metadata": {
  "kernelspec": {
   "display_name": ".venv",
   "language": "python",
   "name": "python3"
  },
  "language_info": {
   "codemirror_mode": {
    "name": "ipython",
    "version": 3
   },
   "file_extension": ".py",
   "mimetype": "text/x-python",
   "name": "python",
   "nbconvert_exporter": "python",
   "pygments_lexer": "ipython3",
   "version": "3.12.9"
  }
 },
 "nbformat": 4,
 "nbformat_minor": 5
}
