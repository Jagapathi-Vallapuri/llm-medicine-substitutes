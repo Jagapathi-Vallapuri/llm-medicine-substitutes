{
 "cells": [
  {
   "cell_type": "code",
   "execution_count": 5,
   "id": "70dc3af0",
   "metadata": {},
   "outputs": [
    {
     "name": "stdout",
     "output_type": "stream",
     "text": [
      "Loaded 249668 cleaned medicines\n"
     ]
    },
    {
     "data": {
      "text/html": [
       "<div>\n",
       "<style scoped>\n",
       "    .dataframe tbody tr th:only-of-type {\n",
       "        vertical-align: middle;\n",
       "    }\n",
       "\n",
       "    .dataframe tbody tr th {\n",
       "        vertical-align: top;\n",
       "    }\n",
       "\n",
       "    .dataframe thead th {\n",
       "        text-align: right;\n",
       "    }\n",
       "</style>\n",
       "<table border=\"1\" class=\"dataframe\">\n",
       "  <thead>\n",
       "    <tr style=\"text-align: right;\">\n",
       "      <th></th>\n",
       "      <th>name</th>\n",
       "      <th>composition_clean</th>\n",
       "    </tr>\n",
       "  </thead>\n",
       "  <tbody>\n",
       "    <tr>\n",
       "      <th>0</th>\n",
       "      <td>Augmentin 625 Duo Tablet</td>\n",
       "      <td>amoxycillin clavulanic acid</td>\n",
       "    </tr>\n",
       "    <tr>\n",
       "      <th>1</th>\n",
       "      <td>Azithral 500 Tablet</td>\n",
       "      <td>azithromycin</td>\n",
       "    </tr>\n",
       "    <tr>\n",
       "      <th>2</th>\n",
       "      <td>Ascoril LS Syrup</td>\n",
       "      <td>ambroxol levosalbutamol</td>\n",
       "    </tr>\n",
       "    <tr>\n",
       "      <th>3</th>\n",
       "      <td>Allegra 120mg Tablet</td>\n",
       "      <td>fexofenadine</td>\n",
       "    </tr>\n",
       "    <tr>\n",
       "      <th>4</th>\n",
       "      <td>Avil 25 Tablet</td>\n",
       "      <td>pheniramine</td>\n",
       "    </tr>\n",
       "  </tbody>\n",
       "</table>\n",
       "</div>"
      ],
      "text/plain": [
       "                       name            composition_clean\n",
       "0  Augmentin 625 Duo Tablet  amoxycillin clavulanic acid\n",
       "1       Azithral 500 Tablet                 azithromycin\n",
       "2          Ascoril LS Syrup      ambroxol levosalbutamol\n",
       "3      Allegra 120mg Tablet                 fexofenadine\n",
       "4            Avil 25 Tablet                  pheniramine"
      ]
     },
     "execution_count": 5,
     "metadata": {},
     "output_type": "execute_result"
    }
   ],
   "source": [
    "import pandas as pd\n",
    "import numpy as np\n",
    "from sklearn.feature_extraction.text import TfidfVectorizer\n",
    "import matplotlib.pyplot as plt\n",
    "\n",
    "# Load the preprocessed data\n",
    "df = pd.read_csv(\"../outputs/medicines_cleaned.csv\")\n",
    "print(f\"Loaded {len(df)} cleaned medicines\")\n",
    "df[[\"name\", \"composition_clean\"]].head()\n"
   ]
  },
  {
   "cell_type": "code",
   "execution_count": 6,
   "id": "42d5b41b",
   "metadata": {},
   "outputs": [
    {
     "name": "stdout",
     "output_type": "stream",
     "text": [
      "TF-IDF matrix shape: (249668, 1885)\n"
     ]
    }
   ],
   "source": [
    "vectorizer = TfidfVectorizer()\n",
    "tfidf_matrix = vectorizer.fit_transform(df[\"composition_clean\"])\n",
    "\n",
    "dense_matrix = tfidf_matrix.toarray().astype(\"float32\")\n",
    "print(f\"TF-IDF matrix shape: {dense_matrix.shape}\")\n"
   ]
  },
  {
   "cell_type": "code",
   "execution_count": 9,
   "id": "e6d17599",
   "metadata": {},
   "outputs": [
    {
     "name": "stdout",
     "output_type": "stream",
     "text": [
      "FAISS index built and queried successfully.\n"
     ]
    }
   ],
   "source": [
    "import faiss\n",
    "faiss.normalize_L2(dense_matrix)\n",
    "\n",
    "index = faiss.IndexFlatIP(dense_matrix.shape[1])\n",
    "index.add(dense_matrix)\n",
    "\n",
    "k = 6\n",
    "distances, indices = index.search(dense_matrix, k)\n",
    "\n",
    "print(\"FAISS index built and queried successfully.\")\n"
   ]
  },
  {
   "cell_type": "code",
   "execution_count": 10,
   "id": "92c749d9",
   "metadata": {},
   "outputs": [
    {
     "data": {
      "text/html": [
       "<div>\n",
       "<style scoped>\n",
       "    .dataframe tbody tr th:only-of-type {\n",
       "        vertical-align: middle;\n",
       "    }\n",
       "\n",
       "    .dataframe tbody tr th {\n",
       "        vertical-align: top;\n",
       "    }\n",
       "\n",
       "    .dataframe thead th {\n",
       "        text-align: right;\n",
       "    }\n",
       "</style>\n",
       "<table border=\"1\" class=\"dataframe\">\n",
       "  <thead>\n",
       "    <tr style=\"text-align: right;\">\n",
       "      <th></th>\n",
       "      <th>name</th>\n",
       "      <th>substitute</th>\n",
       "      <th>num_substitutes</th>\n",
       "    </tr>\n",
       "  </thead>\n",
       "  <tbody>\n",
       "    <tr>\n",
       "      <th>0</th>\n",
       "      <td>Augmentin 625 Duo Tablet</td>\n",
       "      <td>Augmentin 1000 Duo Tablet, Augmentin DDS Suspe...</td>\n",
       "      <td>5</td>\n",
       "    </tr>\n",
       "    <tr>\n",
       "      <th>1</th>\n",
       "      <td>Azithral 500 Tablet</td>\n",
       "      <td>Azee 200mg Dry Syrup, Azicip 500 Tablet, Azith...</td>\n",
       "      <td>5</td>\n",
       "    </tr>\n",
       "    <tr>\n",
       "      <th>2</th>\n",
       "      <td>Ascoril LS Syrup</td>\n",
       "      <td>Asthalin AX Syrup, Ambrodil-LX Syrup, Asthakin...</td>\n",
       "      <td>5</td>\n",
       "    </tr>\n",
       "    <tr>\n",
       "      <th>3</th>\n",
       "      <td>Allegra 120mg Tablet</td>\n",
       "      <td>Air 180 Tablet, Alrgee 120mg Tablet, Allegra S...</td>\n",
       "      <td>5</td>\n",
       "    </tr>\n",
       "    <tr>\n",
       "      <th>4</th>\n",
       "      <td>Avil 25 Tablet</td>\n",
       "      <td>Delcuf D Syrup, Alergipar 10mg Injection, Avil...</td>\n",
       "      <td>5</td>\n",
       "    </tr>\n",
       "  </tbody>\n",
       "</table>\n",
       "</div>"
      ],
      "text/plain": [
       "                       name  \\\n",
       "0  Augmentin 625 Duo Tablet   \n",
       "1       Azithral 500 Tablet   \n",
       "2          Ascoril LS Syrup   \n",
       "3      Allegra 120mg Tablet   \n",
       "4            Avil 25 Tablet   \n",
       "\n",
       "                                          substitute  num_substitutes  \n",
       "0  Augmentin 1000 Duo Tablet, Augmentin DDS Suspe...                5  \n",
       "1  Azee 200mg Dry Syrup, Azicip 500 Tablet, Azith...                5  \n",
       "2  Asthalin AX Syrup, Ambrodil-LX Syrup, Asthakin...                5  \n",
       "3  Air 180 Tablet, Alrgee 120mg Tablet, Allegra S...                5  \n",
       "4  Delcuf D Syrup, Alergipar 10mg Injection, Avil...                5  "
      ]
     },
     "execution_count": 10,
     "metadata": {},
     "output_type": "execute_result"
    }
   ],
   "source": [
    "substitutes = []\n",
    "\n",
    "for i in range(len(df)):\n",
    "    similar_idxs = indices[i][1:]  \n",
    "    similar_names = df.iloc[similar_idxs][\"name\"].tolist()\n",
    "    substitutes.append(\", \".join(similar_names) if similar_names else \"No similar alternatives\")\n",
    "\n",
    "df[\"substitute\"] = substitutes\n",
    "df[\"num_substitutes\"] = [len(s.split(\",\")) for s in substitutes]\n",
    "\n",
    "df[[\"name\", \"substitute\", \"num_substitutes\"]].head()\n"
   ]
  },
  {
   "cell_type": "code",
   "execution_count": 11,
   "id": "9abb0874",
   "metadata": {},
   "outputs": [
    {
     "data": {
      "image/png": "[encoded data removed]",
      "text/plain": [
       "<Figure size 1000x400 with 1 Axes>"
      ]
     },
     "metadata": {},
     "output_type": "display_data"
    }
   ],
   "source": [
    "plt.figure(figsize=(10, 4))\n",
    "df[\"num_substitutes\"].value_counts().sort_index().plot(kind='bar', color='purple')\n",
    "plt.title(\"Distribution of Number of TF-IDF Substitutes\")\n",
    "plt.xlabel(\"Number of Similar Medicines\")\n",
    "plt.ylabel(\"Count of Medicines\")\n",
    "plt.grid(axis='y', linestyle='--', linewidth=0.5)\n",
    "plt.tight_layout()\n",
    "plt.show()\n"
   ]
  },
  {
   "cell_type": "code",
   "execution_count": 14,
   "id": "fa52a38a",
   "metadata": {},
   "outputs": [
    {
     "name": "stdout",
     "output_type": "stream",
     "text": [
      "Substitutes saved to outputs/\n"
     ]
    }
   ],
   "source": [
    "\n",
    "df_small = df[[\"name\", \"composition_clean\", \"substitute\"]].copy()\n",
    "df_small.to_csv(\"../outputs/medicine_comp_substitue.csv\", index=False)\n",
    "\n",
    "print(\"Substitutes saved to outputs/\")\n"
   ]
  }
 ],
 "metadata": {
  "kernelspec": {
   "display_name": ".venv",
   "language": "python",
   "name": "python3"
  },
  "language_info": {
   "codemirror_mode": {
    "name": "ipython",
    "version": 3
   },
   "file_extension": ".py",
   "mimetype": "text/x-python",
   "name": "python",
   "nbconvert_exporter": "python",
   "pygments_lexer": "ipython3",
   "version": "3.12.9"
  }
 },
 "nbformat": 4,
 "nbformat_minor": 5
}
